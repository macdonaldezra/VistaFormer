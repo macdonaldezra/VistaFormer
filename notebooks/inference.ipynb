{
 "cells": [
  {
   "cell_type": "code",
   "execution_count": null,
   "metadata": {},
   "outputs": [],
   "source": [
    "from pathlib import Path\n",
    "\n",
    "import torch\n",
    "import torch.nn as nn\n",
    "import torch.nn.functional as F\n",
    "\n",
    "from vistaformer.models import get_model\n",
    "from vistaformer.datasets.pastis import get_dataloader\n",
    "# from vistaformer.datasets.mtlcc import get_dataloader\n",
    "\n",
    "num_params = lambda x: sum(p.numel() for p in x.parameters() if p.requires_grad)\n",
    "\n",
    "device = \"cuda\" if torch.cuda.is_available() else \"cpu\"\n",
    "\n",
    "config_path = Path(\"very_real_config_path.yaml\")\n",
    "out_path = Path(\"very_real_output_path\")\n",
    "if not out_path.exists():\n",
    "    out_path.mkdir(parents=True)\n",
    "\n",
    "config = get_model_config(config_path)\n",
    "\n",
    "model = get_model(config)\n",
    "model = model.to(device)\n",
    "model = model.eval()\n",
    "\n",
    "print(f\"Number of trainable parameters: {num_params(model)}\")\n",
    "\n",
    "dataloader = get_dataloader(config)"
   ]
  },
  {
   "cell_type": "code",
   "execution_count": null,
   "metadata": {},
   "outputs": [],
   "source": [
    "generate_test_metrics(\n",
    "    model=model,\n",
    "    dataloader=dataloader,\n",
    "    num_classes=config.num_classes,\n",
    "    device=device,\n",
    "    output_path=out_path,\n",
    "    ignore_index=config.ignore_index,\n",
    ")"
   ]
  }
 ],
 "metadata": {
  "language_info": {
   "name": "python"
  }
 },
 "nbformat": 4,
 "nbformat_minor": 2
}
